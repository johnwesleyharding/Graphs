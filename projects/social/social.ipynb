{
 "cells": [
  {
   "cell_type": "code",
   "execution_count": 1,
   "metadata": {},
   "outputs": [],
   "source": [
    "import numpy as np\n",
    "import sys\n",
    "sys.path.insert(0, '..\\graph')\n",
    "from graph import Graph, Gnode"
   ]
  },
  {
   "cell_type": "code",
   "execution_count": 2,
   "metadata": {},
   "outputs": [],
   "source": [
    "class User:\n",
    "    def __init__(self, name):\n",
    "        self.name = name"
   ]
  },
  {
   "cell_type": "code",
   "execution_count": 3,
   "metadata": {},
   "outputs": [],
   "source": [
    "class SocialGraph:\n",
    "    def __init__(self):\n",
    "        self.last_id = 0\n",
    "        self.users = {}\n",
    "        self.friendships = {}\n",
    "\n",
    "    def add_friendship(self, user_id, friend_id):\n",
    "        \"\"\"\n",
    "        Creates a bi-directional friendship\n",
    "        \"\"\"\n",
    "        if user_id == friend_id:\n",
    "            print(\"WARNING: You cannot be friends with yourself\")\n",
    "        elif friend_id in self.friendships[user_id] or user_id in self.friendships[friend_id]:\n",
    "            print(\"WARNING: Friendship already exists\")\n",
    "        else:\n",
    "            self.friendships[user_id].add(friend_id)\n",
    "            self.friendships[friend_id].add(user_id)\n",
    "\n",
    "    def add_user(self, name):\n",
    "        \"\"\"\n",
    "        Create a new user with a sequential integer ID\n",
    "        \"\"\"\n",
    "        self.last_id += 1  # automatically increment the ID to assign the new user\n",
    "        self.users[self.last_id] = User(name)\n",
    "        self.friendships[self.last_id] = set()\n",
    "\n",
    "    def populate_graph(self, num_users, avg_friendships):\n",
    "\n",
    "        if num_users <= avg_friendships:\n",
    "            \n",
    "            return 'too many friends per user'\n",
    "        \n",
    "        self.last_id = 0\n",
    "        self.users = {}\n",
    "        self.friendships = {}        \n",
    "        \n",
    "        for n in range(num_users):\n",
    "            \n",
    "            self.add_user(f'person{n}')\n",
    "        \n",
    "        size = (num_users * avg_friendships) // 2\n",
    "        friends = np.random.randint(1, self.last_id + 1, size = (size * 2, 2))\n",
    "        count, i = 0, 0\n",
    "        \n",
    "        while count < size:\n",
    "            \n",
    "            ship = friends[i]\n",
    "            if ship[0] != ship[1] and ship[1] not in self.friendships[ship[0]]:\n",
    "                \n",
    "                self.add_friendship(ship[0], ship[1])\n",
    "                count += 1\n",
    "            \n",
    "            i += 1\n",
    "\n",
    "    def get_all_social_paths(self, user_id):\n",
    "        \"\"\"\n",
    "        Takes a user's user_id as an argument\n",
    "\n",
    "        Returns a dictionary containing every user in that user's\n",
    "        extended network with the shortest friendship path between them.\n",
    "\n",
    "        The key is the friend's ID and the value is the path.\n",
    "        \"\"\"\n",
    "        visited = {}  # Note that this is a dictionary, not a set\n",
    "        # !!!! IMPLEMENT ME\n",
    "        return visited"
   ]
  },
  {
   "cell_type": "code",
   "execution_count": 4,
   "metadata": {},
   "outputs": [
    {
     "name": "stdout",
     "output_type": "stream",
     "text": [
      "{1: {8, 7}, 2: {5}, 3: {5}, 4: {8, 5}, 5: {2, 3, 4, 8, 9}, 6: {10}, 7: {9, 1}, 8: {1, 4, 5}, 9: {5, 7}, 10: {6}}\n"
     ]
    }
   ],
   "source": [
    "sg = SocialGraph()\n",
    "sg.populate_graph(10, 2)\n",
    "print(sg.friendships)\n",
    "# connections = sg.get_all_social_paths(1)\n",
    "# print(connections)"
   ]
  },
  {
   "cell_type": "code",
   "execution_count": null,
   "metadata": {},
   "outputs": [],
   "source": []
  },
  {
   "cell_type": "code",
   "execution_count": null,
   "metadata": {},
   "outputs": [],
   "source": []
  }
 ],
 "metadata": {
  "kernelspec": {
   "display_name": "Python 3",
   "language": "python",
   "name": "python3"
  },
  "language_info": {
   "codemirror_mode": {
    "name": "ipython",
    "version": 3
   },
   "file_extension": ".py",
   "mimetype": "text/x-python",
   "name": "python",
   "nbconvert_exporter": "python",
   "pygments_lexer": "ipython3",
   "version": "3.7.4"
  }
 },
 "nbformat": 4,
 "nbformat_minor": 4
}
