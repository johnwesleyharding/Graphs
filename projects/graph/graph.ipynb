{
 "cells": [
  {
   "cell_type": "code",
   "execution_count": 1,
   "metadata": {},
   "outputs": [],
   "source": [
    "from util import Stack, Queue"
   ]
  },
  {
   "cell_type": "code",
   "execution_count": 2,
   "metadata": {},
   "outputs": [],
   "source": [
    "class Gnode:\n",
    "    \n",
    "    def __init__(self, data = None):\n",
    "        \n",
    "        self.upstream = set()\n",
    "        self.downstream = set()\n",
    "        self.data = data     "
   ]
  },
  {
   "cell_type": "code",
   "execution_count": 3,
   "metadata": {},
   "outputs": [],
   "source": [
    "class Graph:\n",
    "\n",
    "    def __init__(self):\n",
    "        \n",
    "        self.vertices = {}\n",
    "\n",
    "    def add_vertex(self, vertex_id, data = None):\n",
    "        \n",
    "        self.vertices[vertex_id] = Gnode(data)\n",
    "\n",
    "    def add_edge(self, node, target):\n",
    "        \n",
    "        if node in self.vertices and target in self.vertices:\n",
    "            \n",
    "            self.vertices[node].downstream.add(target)\n",
    "            self.vertices[target].upstream.add(node)\n",
    "\n",
    "    def get_neighbors(self, node):\n",
    "        \n",
    "        if node in self.vertices:\n",
    "            \n",
    "            return self.vertices[node].downstream | self.vertices[node].upstream\n",
    "\n",
    "    def bft(self, node):\n",
    "        \n",
    "        q = Queue()\n",
    "        visited = set()\n",
    "        q.enqueue(node)\n",
    "        \n",
    "        while q.size() > 0:\n",
    "            \n",
    "            n = q.dequeue()\n",
    "            if n not in visited:\n",
    "                \n",
    "                visited.add(n)\n",
    "                print(n)\n",
    "                \n",
    "                for path in self.vertices[n].downstream | self.vertices[n].upstream:\n",
    "\n",
    "                    q.enqueue(path)\n",
    "\n",
    "    def dft(self, node):\n",
    "\n",
    "        s = Stack()\n",
    "        visited = set()\n",
    "        s.push(node)\n",
    "        \n",
    "        while s.size() > 0:\n",
    "            \n",
    "            n = s.pop()\n",
    "            if n not in visited:\n",
    "                \n",
    "                visited.add(n)\n",
    "                print(n)\n",
    "                \n",
    "                for path in self.vertices[n].downstream | self.vertices[n].upstream:\n",
    "\n",
    "                    s.push(path)\n",
    "    \n",
    "    def dft_recursive(self, node, visited = set()):\n",
    "        \n",
    "        print(node)\n",
    "        visited.add(node)\n",
    "        \n",
    "        for path in self.vertices[node].downstream | self.vertices[node].upstream:\n",
    "            \n",
    "            if path not in visited:\n",
    "\n",
    "                self.dft_recursive(path, visited)\n",
    "\n",
    "    def bfs(self, node, target, chain = None):\n",
    "        \n",
    "        if chain == None:\n",
    "            \n",
    "            chain = [target]\n",
    "        \n",
    "        if chain[-1] == node:\n",
    "            \n",
    "            return chain[-1::-1]\n",
    "        \n",
    "        q = Queue()\n",
    "        visited = set()\n",
    "        q.enqueue(node)\n",
    "        \n",
    "        while q.size() > 0:\n",
    "            \n",
    "            n = q.dequeue()\n",
    "            \n",
    "            if target in self.vertices[n].downstream | self.vertices[n].upstream:\n",
    "                \n",
    "                chain.append(n)\n",
    "                return self.bfs(node, chain[-1], chain)\n",
    "            \n",
    "            if n not in visited:\n",
    "                \n",
    "                visited.add(n)\n",
    "                \n",
    "                for path in self.vertices[n].downstream | self.vertices[n].upstream:\n",
    "\n",
    "                    q.enqueue(path)\n",
    "\n",
    "    def dfs(self, node, target):\n",
    "        \n",
    "        if target == node:\n",
    "            \n",
    "            return [node]\n",
    "        \n",
    "        c = [[node]]\n",
    "        visited = {node}\n",
    "        d = 0\n",
    "        \n",
    "        while d > -1:\n",
    "            \n",
    "            n = c[d][-1]\n",
    "            \n",
    "            if target in self.vertices[n].downstream | self.vertices[n].upstream:\n",
    "                \n",
    "                d += 1\n",
    "                c.append([target])\n",
    "                chain = [None] * (d + 1)\n",
    "                \n",
    "                for i in range(d + 1):\n",
    "\n",
    "                    chain[i] = c[i][-1]\n",
    "                \n",
    "                return chain\n",
    "            \n",
    "            flag = False\n",
    "            d += 1\n",
    "            c.append([])\n",
    "            \n",
    "            for path in self.vertices[n].downstream | self.vertices[n].upstream:\n",
    "\n",
    "                if path not in visited:\n",
    "\n",
    "                    c[d].append(path)\n",
    "                    visited.add(path)\n",
    "                    flag = True\n",
    "            \n",
    "            if flag == False:\n",
    "                \n",
    "                c.pop()\n",
    "                d -= 1\n",
    "                c[d].pop()\n",
    "                \n",
    "                if c[d] == []:\n",
    "\n",
    "                    c.pop()\n",
    "                    d -= 1\n",
    "\n",
    "    def dfs_recursive(self, node, target, chain = [], visited = set()):\n",
    "        \n",
    "        visited.add(node)        \n",
    "        chain.append(node)\n",
    "        \n",
    "        if chain[-1] == target:\n",
    "            \n",
    "            return chain\n",
    "        \n",
    "        for path in self.vertices[node].downstream | self.vertices[node].upstream:\n",
    "            \n",
    "            if path not in visited:\n",
    "\n",
    "                x = self.dfs_recursive(path, target, chain, visited)\n",
    "            \n",
    "                if x != None and x[-1] == target:\n",
    "                \n",
    "                    return x\n",
    "                \n",
    "        chain.pop()\n",
    "        return chain"
   ]
  },
  {
   "cell_type": "code",
   "execution_count": 4,
   "metadata": {},
   "outputs": [],
   "source": [
    "graph = Graph()\n",
    "for i in range(7):\n",
    "    graph.add_vertex(i + 1)\n",
    "for x, y in [(5, 3), (6, 3), (7, 1), (4, 7), (1, 2), (7, 6), (2, 4), (3, 5), (2, 3), (4, 6)]:\n",
    "    graph.add_edge(x, y)"
   ]
  },
  {
   "cell_type": "code",
   "execution_count": 5,
   "metadata": {},
   "outputs": [],
   "source": [
    "# print(graph.vertices)"
   ]
  },
  {
   "cell_type": "code",
   "execution_count": 6,
   "metadata": {},
   "outputs": [
    {
     "data": {
      "text/plain": [
       "{1, 3, 4}"
      ]
     },
     "execution_count": 6,
     "metadata": {},
     "output_type": "execute_result"
    }
   ],
   "source": [
    "graph.get_neighbors(2)"
   ]
  },
  {
   "cell_type": "code",
   "execution_count": 7,
   "metadata": {},
   "outputs": [
    {
     "name": "stdout",
     "output_type": "stream",
     "text": [
      "1\n",
      "2\n",
      "7\n",
      "3\n",
      "4\n",
      "6\n",
      "5\n"
     ]
    }
   ],
   "source": [
    "graph.bft(1)"
   ]
  },
  {
   "cell_type": "code",
   "execution_count": 8,
   "metadata": {},
   "outputs": [
    {
     "name": "stdout",
     "output_type": "stream",
     "text": [
      "1\n",
      "7\n",
      "6\n",
      "4\n",
      "2\n",
      "3\n",
      "5\n"
     ]
    }
   ],
   "source": [
    "graph.dft(1)"
   ]
  },
  {
   "cell_type": "code",
   "execution_count": 9,
   "metadata": {},
   "outputs": [
    {
     "name": "stdout",
     "output_type": "stream",
     "text": [
      "1\n",
      "2\n",
      "3\n",
      "5\n",
      "6\n",
      "4\n",
      "7\n"
     ]
    }
   ],
   "source": [
    "graph.dft_recursive(1, visited = set())"
   ]
  },
  {
   "cell_type": "code",
   "execution_count": 10,
   "metadata": {},
   "outputs": [
    {
     "name": "stdout",
     "output_type": "stream",
     "text": [
      "[4, 2, 3, 5]\n"
     ]
    }
   ],
   "source": [
    "print(graph.bfs(4, 5))"
   ]
  },
  {
   "cell_type": "code",
   "execution_count": 11,
   "metadata": {},
   "outputs": [
    {
     "name": "stdout",
     "output_type": "stream",
     "text": [
      "[5, 3, 6, 7, 1]\n"
     ]
    }
   ],
   "source": [
    "print(graph.dfs(5, 1))"
   ]
  },
  {
   "cell_type": "code",
   "execution_count": 12,
   "metadata": {},
   "outputs": [
    {
     "name": "stdout",
     "output_type": "stream",
     "text": [
      "[1, 2, 3, 6]\n"
     ]
    }
   ],
   "source": [
    "print(graph.dfs_recursive(1, 6, chain = [], visited = set()))"
   ]
  },
  {
   "cell_type": "code",
   "execution_count": 13,
   "metadata": {},
   "outputs": [
    {
     "name": "stdout",
     "output_type": "stream",
     "text": [
      "[1]                  [1]                  [1]                 \n",
      "[1, 2]               [1, 2]               [1, 2]              \n",
      "[1, 2, 3]            [1, 7, 6, 3]         [1, 2, 3]           \n",
      "[1, 2, 4]            [1, 7, 4]            [1, 2, 3, 6, 4]     \n",
      "[1, 2, 3, 5]         [1, 7, 6, 3, 5]      [1, 2, 3, 5]        \n",
      "[1, 7, 6]            [1, 7, 6]            [1, 2, 3, 6]        \n",
      "[1, 7]               [1, 7]               [1, 2, 3, 6, 4, 7]  \n",
      "[2, 1]               [2, 1]               [2, 1]              \n",
      "[2]                  [2]                  [2]                 \n",
      "[2, 3]               [2, 3]               [2, 1, 7, 4, 6, 3]  \n",
      "[2, 4]               [2, 4]               [2, 1, 7, 4]        \n",
      "[2, 3, 5]            [2, 3, 5]            [2, 1, 7, 4, 6, 3, 5]\n",
      "[2, 3, 6]            [2, 4, 6]            [2, 1, 7, 4, 6]     \n",
      "[2, 1, 7]            [2, 4, 7]            [2, 1, 7]           \n",
      "[3, 2, 1]            [3, 6, 7, 1]         [3, 2, 1]           \n",
      "[3, 2]               [3, 2]               [3, 2]              \n",
      "[3]                  [3]                  [3]                 \n",
      "[3, 2, 4]            [3, 6, 4]            [3, 2, 1, 7, 4]     \n",
      "[3, 5]               [3, 5]               [3, 5]              \n",
      "[3, 6]               [3, 6]               [3, 2, 1, 7, 4, 6]  \n",
      "[3, 6, 7]            [3, 6, 7]            [3, 2, 1, 7]        \n",
      "[4, 2, 1]            [4, 7, 1]            [4, 2, 1]           \n",
      "[4, 2]               [4, 2]               [4, 2]              \n",
      "[4, 2, 3]            [4, 6, 3]            [4, 2, 1, 7, 6, 3]  \n",
      "[4]                  [4]                  [4]                 \n",
      "[4, 2, 3, 5]         [4, 6, 3, 5]         [4, 2, 1, 7, 6, 3, 5]\n",
      "[4, 6]               [4, 6]               [4, 2, 1, 7, 6]     \n",
      "[4, 7]               [4, 7]               [4, 2, 1, 7]        \n",
      "[5, 3, 2, 1]         [5, 3, 6, 7, 1]      [5, 3, 2, 1]        \n",
      "[5, 3, 2]            [5, 3, 2]            [5, 3, 2]           \n",
      "[5, 3]               [5, 3]               [5, 3]              \n",
      "[5, 3, 2, 4]         [5, 3, 6, 4]         [5, 3, 2, 1, 7, 4]  \n",
      "[5]                  [5]                  [5]                 \n",
      "[5, 3, 6]            [5, 3, 6]            [5, 3, 2, 1, 7, 4, 6]\n",
      "[5, 3, 6, 7]         [5, 3, 6, 7]         [5, 3, 2, 1, 7]     \n",
      "[6, 7, 1]            [6, 7, 1]            [6, 3, 2, 1]        \n",
      "[6, 3, 2]            [6, 7, 1, 2]         [6, 3, 2]           \n",
      "[6, 3]               [6, 3]               [6, 3]              \n",
      "[6, 4]               [6, 4]               [6, 3, 2, 1, 7, 4]  \n",
      "[6, 3, 5]            [6, 3, 5]            [6, 3, 5]           \n",
      "[6]                  [6]                  [6]                 \n",
      "[6, 7]               [6, 7]               [6, 3, 2, 1, 7]     \n",
      "[7, 1]               [7, 1]               [7, 1]              \n",
      "[7, 1, 2]            [7, 6, 3, 2]         [7, 1, 2]           \n",
      "[7, 6, 3]            [7, 6, 3]            [7, 1, 2, 3]        \n",
      "[7, 4]               [7, 4]               [7, 1, 2, 3, 6, 4]  \n",
      "[7, 6, 3, 5]         [7, 6, 3, 5]         [7, 1, 2, 3, 5]     \n",
      "[7, 6]               [7, 6]               [7, 1, 2, 3, 6]     \n",
      "[7]                  [7]                  [7]                 \n"
     ]
    }
   ],
   "source": [
    "for i in range(1, 8):\n",
    "    \n",
    "    for j in range(1, 8):\n",
    "        \n",
    "        print(f'{graph.bfs(i, j)}'.ljust(20), \n",
    "              f'{graph.dfs(i, j)}'.ljust(20), \n",
    "              f'{graph.dfs_recursive(i, j, chain = [], visited = set())}'.ljust(20))"
   ]
  },
  {
   "cell_type": "code",
   "execution_count": null,
   "metadata": {},
   "outputs": [],
   "source": []
  }
 ],
 "metadata": {
  "kernelspec": {
   "display_name": "Python 3",
   "language": "python",
   "name": "python3"
  },
  "language_info": {
   "codemirror_mode": {
    "name": "ipython",
    "version": 3
   },
   "file_extension": ".py",
   "mimetype": "text/x-python",
   "name": "python",
   "nbconvert_exporter": "python",
   "pygments_lexer": "ipython3",
   "version": "3.7.4"
  }
 },
 "nbformat": 4,
 "nbformat_minor": 4
}
