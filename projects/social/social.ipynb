{
 "cells": [
  {
   "cell_type": "code",
   "execution_count": 1,
   "metadata": {},
   "outputs": [],
   "source": [
    "import numpy as np"
   ]
  },
  {
   "cell_type": "code",
   "execution_count": 2,
   "metadata": {},
   "outputs": [],
   "source": [
    "class User:\n",
    "    \n",
    "    def __init__(self, name):\n",
    "        \n",
    "        self.name = name"
   ]
  },
  {
   "cell_type": "code",
   "execution_count": 3,
   "metadata": {},
   "outputs": [],
   "source": [
    "class SocialGraph:\n",
    "    \n",
    "    def __init__(self):\n",
    "        \n",
    "        self.last_id = 0\n",
    "        self.users = {}\n",
    "        self.friendships = {}\n",
    "\n",
    "    def add_friendship(self, user_id, friend_id):\n",
    "\n",
    "        if user_id == friend_id:\n",
    "            \n",
    "            print(\"WARNING: You cannot be friends with yourself\")\n",
    "            \n",
    "        elif friend_id in self.friendships[user_id] or user_id in self.friendships[friend_id]:\n",
    "            \n",
    "            print(\"WARNING: Friendship already exists\")\n",
    "            \n",
    "        else:\n",
    "            \n",
    "            self.friendships[user_id].add(friend_id)\n",
    "            self.friendships[friend_id].add(user_id)            \n",
    "\n",
    "    def add_user(self, name):\n",
    "\n",
    "        self.last_id += 1\n",
    "        self.users[self.last_id] = User(name)\n",
    "        self.friendships[self.last_id] = set()\n",
    "\n",
    "    def populate_graph(self, num_users, avg_friendships):\n",
    "\n",
    "        if num_users <= avg_friendships:\n",
    "            \n",
    "            return 'too many friends per user'\n",
    "        \n",
    "        self.last_id = 0\n",
    "        self.users = {}\n",
    "        self.friendships = {}        \n",
    "        \n",
    "        for n in range(num_users):\n",
    "            \n",
    "            self.add_user(f'person{n}')\n",
    "        \n",
    "        size = (num_users * avg_friendships) // 2\n",
    "        friends = np.random.randint(1, self.last_id + 1, size = (size * 2, 2))\n",
    "        count, i = 0, 0\n",
    "        \n",
    "        while count < size:\n",
    "            \n",
    "            ship = friends[i]\n",
    "            if ship[0] != ship[1] and ship[1] not in self.friendships[ship[0]]:\n",
    "                \n",
    "                self.add_friendship(ship[0], ship[1])\n",
    "                count += 1\n",
    "            \n",
    "            i += 1\n",
    "\n",
    "    def get_all_social_paths(self, user_id):\n",
    "        \n",
    "        visited = {user_id: [user_id]}\n",
    "        current = {user_id: sg.friendships[user_id]}\n",
    "        flag = True\n",
    "        \n",
    "        while flag:\n",
    "            \n",
    "            degree = {}\n",
    "            flag = False\n",
    "            \n",
    "            for friend in current:\n",
    "                \n",
    "                for path in current[friend]:\n",
    "                \n",
    "                    if path not in visited:\n",
    "                        \n",
    "                        visited[path] = visited[friend][:]\n",
    "                        visited[path].append(path)\n",
    "                        degree[path] = sg.friendships[path]\n",
    "                        flag = True\n",
    "            \n",
    "            current = degree\n",
    "        \n",
    "        visited.pop(user_id)\n",
    "        return visited"
   ]
  },
  {
   "cell_type": "code",
   "execution_count": 4,
   "metadata": {},
   "outputs": [
    {
     "name": "stdout",
     "output_type": "stream",
     "text": [
      "{1: {8, 2, 10}, 2: {1, 3}, 3: {2, 4, 6}, 4: {3, 5, 7}, 5: {8, 4, 6}, 6: {3, 5}, 7: {4}, 8: {1, 5}, 9: set(), 10: {1}}\n",
      "{8: [1, 8], 2: [1, 2], 10: [1, 10], 5: [1, 8, 5], 3: [1, 2, 3], 4: [1, 8, 5, 4], 6: [1, 8, 5, 6], 7: [1, 8, 5, 4, 7]}\n"
     ]
    }
   ],
   "source": [
    "sg = SocialGraph()\n",
    "sg.populate_graph(10, 2)\n",
    "print(sg.friendships)\n",
    "connections = sg.get_all_social_paths(1)\n",
    "print(connections)"
   ]
  },
  {
   "cell_type": "code",
   "execution_count": 5,
   "metadata": {},
   "outputs": [
    {
     "name": "stdout",
     "output_type": "stream",
     "text": [
      "percent of graph in network: 99.10 %\n",
      "average degree of separation 4.31\n"
     ]
    }
   ],
   "source": [
    "sg = SocialGraph()\n",
    "sg.populate_graph(1000, 5)\n",
    "connections = sg.get_all_social_paths(1)\n",
    "print(f'percent of graph in network: {len(connections) / 9.99:.2f} %')\n",
    "total = 0\n",
    "for friend in connections:\n",
    "    total += len(connections[friend]) - 1\n",
    "print(f'average degree of separation {total / len(connections):.2f}')"
   ]
  },
  {
   "cell_type": "code",
   "execution_count": null,
   "metadata": {},
   "outputs": [],
   "source": []
  }
 ],
 "metadata": {
  "kernelspec": {
   "display_name": "Python 3",
   "language": "python",
   "name": "python3"
  },
  "language_info": {
   "codemirror_mode": {
    "name": "ipython",
    "version": 3
   },
   "file_extension": ".py",
   "mimetype": "text/x-python",
   "name": "python",
   "nbconvert_exporter": "python",
   "pygments_lexer": "ipython3",
   "version": "3.7.4"
  }
 },
 "nbformat": 4,
 "nbformat_minor": 4
}
